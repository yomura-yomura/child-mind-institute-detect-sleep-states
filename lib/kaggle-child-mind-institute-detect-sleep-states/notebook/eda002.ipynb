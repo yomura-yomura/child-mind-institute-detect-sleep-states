{
 "cells": [
  {
   "cell_type": "code",
   "execution_count": 3,
   "metadata": {},
   "outputs": [],
   "source": [
    "import pandas as pd\n",
    "from pathlib import Path\n",
    "from cmi_dss_lib.utils.metrics import event_detection_ap\n",
    "from cmi_dss_lib.utils.post_process import post_process_for_seg_v1\n",
    "import matplotlib.pyplot as plt\n",
    "import numpy as np\n",
    "from typing import Literal\n",
    "chunk = 4\n",
    "plt.style.use(\"ggplot\")\n",
    "\n",
    "RESULT_DIR = \"../../../data/eda/predicted-fold0.npz\""
   ]
  },
  {
   "cell_type": "code",
   "execution_count": 4,
   "metadata": {},
   "outputs": [],
   "source": [
    "data = np.load(RESULT_DIR)\n",
    "keys = data[\"key\"]\n",
    "series_ids = list(set([str(k).split(\"_\")[0] for k in keys]))\n",
    "preds = data[\"pred\"]\n",
    "labels = data[\"label\"]\n",
    "\n",
    "gt_df = pd.read_csv(Path(\"../../../data/train-series-with-partid\") / \"train_events.csv\")\n",
    "gt_df = gt_df[gt_df[\"series_id\"].isin(series_ids)].dropna().reset_index(drop=True)"
   ]
  },
  {
   "cell_type": "code",
   "execution_count": 5,
   "metadata": {},
   "outputs": [],
   "source": [
    "def plot_random_sample(keys,preds, labels,list_id:list[str] ,df_submit,mode:Literal[\"all\",\"onset\",\"wakeup\"],use_sleep:bool = True,num_chunks=5):\n",
    "    # get series ids\n",
    "    series_ids = np.array(list(map(lambda x: x.split(\"_\")[0], keys)))\n",
    "    #unique_series_ids = np.unique(series_ids)\n",
    "\n",
    "    # get random series\n",
    "    #random_series_ids = [unique_series_ids[3]]#np.random.choice(unique_series_ids, num_samples)\n",
    "    #random_series_ids = np.random.choice(unique_series_ids, num_samples)\n",
    "\n",
    "    for i, random_series_id in enumerate(list_id):\n",
    "        # get random series\n",
    "        series_idx = np.where(series_ids == random_series_id)[0]\n",
    "        this_series_preds = preds[series_idx].reshape(-1, 3)\n",
    "        this_series_labels = labels[series_idx].reshape(-1, 3)\n",
    "        this_series_df = df_submit[df_submit[\"series_id\"] == random_series_id].reset_index(drop = True)\n",
    "        val_wakeup = this_series_df[this_series_df[\"event\"] == \"wakeup\"][\"step\"].values\n",
    "        val_onset = this_series_df[this_series_df[\"event\"] == \"onset\"][\"step\"].values\n",
    "        val_step = np.arange(1,preds[series_idx].reshape(-1,3).shape[0]+1)\n",
    "        this_onset = np.isin(val_step,val_onset).astype(int)\n",
    "        this_wakeup = np.isin(val_step,val_wakeup).astype(int)\n",
    "        \n",
    "        # split series\n",
    "        this_series_preds = np.split(this_series_preds, num_chunks)\n",
    "        this_series_wakeup = np.split(this_wakeup, num_chunks)\n",
    "        this_series_onset = np.split(this_onset, num_chunks)\n",
    "        this_series_labels = np.split(this_series_labels, num_chunks)\n",
    "\n",
    "        fig, axs = plt.subplots(num_chunks, 1, figsize=(20, 5 * num_chunks))\n",
    "        if num_chunks == 1:\n",
    "            axs = [axs]\n",
    "        for j in range(num_chunks):\n",
    "            this_series_preds_chunk = this_series_preds[j]\n",
    "            this_series_labels_chunk = this_series_labels[j]\n",
    "\n",
    "            # get onset and wakeup idx\n",
    "            onset_idx = np.nonzero(this_series_labels_chunk[:, 1])[0]*2\n",
    "            wakeup_idx = np.nonzero(this_series_labels_chunk[:, 2])[0]*2\n",
    "\n",
    "            pred_onset_idx = np.nonzero(this_series_onset[j])[0]\n",
    "            pred_wakeup_idx = np.nonzero(this_series_wakeup[j])[0]\n",
    "            \n",
    "\n",
    "            if use_sleep:\n",
    "                axs[j].plot(this_series_preds_chunk[:, 0], label=\"pred_sleep\")\n",
    "            if mode == \"all\" or mode == \"onset\":\n",
    "                axs[j].plot(this_series_preds_chunk[:, 1], label=\"pred_onset\")\n",
    "                axs[j].vlines(pred_onset_idx, 0, 1, label=\"pred_label_onset\", linestyles=\"dotted\", color=\"C1\")\n",
    "                axs[j].vlines(onset_idx, 0, 1, label=\"actual_onset\", linestyles=\"dashed\", color=\"C1\",linewidth=4)\n",
    "            if mode == \"all\" or mode == \"wakeup\":\n",
    "                axs[j].plot(this_series_preds_chunk[:, 2], label=\"pred_wakeup\")\n",
    "                axs[j].vlines(pred_wakeup_idx, 0, 1, label=\"pred_label_wakeup\", linestyles=\"dotted\", color=\"C4\")\n",
    "                axs[j].vlines(wakeup_idx, 0, 1, label=\"actual_wakeup\", linestyles=\"dashed\", color=\"C4\",linewidth=4)\n",
    "\n",
    "            axs[j].set_ylim(0, 1)\n",
    "            axs[j].set_title(f\"series_id: {random_series_id} chunk_id: {j}\")\n",
    "            axs[j].legend(bbox_to_anchor=(1.05, 1), loc=\"upper left\", borderaxespad=0)\n",
    "\n",
    "    plt.tight_layout()\n"
   ]
  },
  {
   "cell_type": "code",
   "execution_count": 6,
   "metadata": {},
   "outputs": [
    {
     "ename": "NameError",
     "evalue": "name 'post_process_for_seg_v1' is not defined",
     "output_type": "error",
     "traceback": [
      "\u001b[0;31m---------------------------------------------------------------------------\u001b[0m",
      "\u001b[0;31mNameError\u001b[0m                                 Traceback (most recent call last)",
      "\u001b[1;32m/home/jumpei.uchida/child-mind-institute-detect-sleep-states/lib/kaggle-child-mind-institute-detect-sleep-states/notebook/eda002.ipynb セル 4\u001b[0m line \u001b[0;36m1\n\u001b[0;32m----> <a href='vscode-notebook-cell://ssh-remote%2B7b22686f73744e616d65223a2247435028763130305f73706f743229227d/home/jumpei.uchida/child-mind-institute-detect-sleep-states/lib/kaggle-child-mind-institute-detect-sleep-states/notebook/eda002.ipynb#W3sdnNjb2RlLXJlbW90ZQ%3D%3D?line=0'>1</a>\u001b[0m df_submit \u001b[39m=\u001b[39m post_process_for_seg_v1(preds \u001b[39m=\u001b[39m preds[:,:,[\u001b[39m0\u001b[39m,\u001b[39m1\u001b[39m,\u001b[39m2\u001b[39m]] ,keys \u001b[39m=\u001b[39m keys,score_th\u001b[39m=\u001b[39m\u001b[39m0.005\u001b[39m,distance \u001b[39m=\u001b[39m \u001b[39m96\u001b[39m,th_hour\u001b[39m=\u001b[39m\u001b[39m6\u001b[39m)\u001b[39m.\u001b[39mto_pandas()\n",
      "\u001b[0;31mNameError\u001b[0m: name 'post_process_for_seg_v1' is not defined"
     ]
    }
   ],
   "source": [
    "df_submit = post_process_for_seg_v1(preds = preds[:,:,[0,1,2]] ,keys = keys,score_th=0.005,distance = 96,th_hour=6).to_pandas()"
   ]
  },
  {
   "cell_type": "code",
   "execution_count": null,
   "metadata": {},
   "outputs": [
    {
     "name": "stderr",
     "output_type": "stream",
     "text": [
      "  2%|▏         | 1/53 [00:00<00:06,  8.16it/s]"
     ]
    },
    {
     "name": "stderr",
     "output_type": "stream",
     "text": [
      "100%|██████████| 53/53 [00:05<00:00, 10.27it/s]\n"
     ]
    }
   ],
   "source": [
    "from tqdm import tqdm\n",
    "sub_id = gt_df[\"series_id\"].unique()\n",
    "dict_result = {\"series_id\":[],\"score\":[]}\n",
    "for s_id in tqdm(sub_id):\n",
    "    dict_result[\"series_id\"].append(s_id)\n",
    "    dict_result[\"score\"].append(event_detection_ap(solution=gt_df[gt_df[\"series_id\"] == s_id],submission=df_submit[df_submit[\"series_id\"] == s_id]))"
   ]
  },
  {
   "cell_type": "code",
   "execution_count": null,
   "metadata": {},
   "outputs": [],
   "source": []
  }
 ],
 "metadata": {
  "kernelspec": {
   "display_name": ".venv",
   "language": "python",
   "name": "python3"
  },
  "language_info": {
   "codemirror_mode": {
    "name": "ipython",
    "version": 3
   },
   "file_extension": ".py",
   "mimetype": "text/x-python",
   "name": "python",
   "nbconvert_exporter": "python",
   "pygments_lexer": "ipython3",
   "version": "3.10.12"
  }
 },
 "nbformat": 4,
 "nbformat_minor": 2
}
