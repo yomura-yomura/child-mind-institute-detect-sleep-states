{
 "cells": [
  {
   "cell_type": "code",
   "execution_count": 4,
   "metadata": {},
   "outputs": [],
   "source": [
    "import pandas as pd\n",
    "from pathlib import Path\n",
    "from cmi_dss_lib.utils.metrics import event_detection_ap\n",
    "from cmi_dss_lib.utils.post_process import post_process_for_seg\n",
    "import numpy as np\n",
    "import polars as pl\n",
    "import matplotlib.pyplot as plt\n",
    "import numpy as np\n",
    "from typing import Literal\n",
    "chunk = 4\n",
    "plt.style.use(\"ggplot\")\n",
    "\n",
    "RESULT_DIR = \"../../../data/eda/predicted-fold_0.npz\""
   ]
  },
  {
   "cell_type": "code",
   "execution_count": 5,
   "metadata": {},
   "outputs": [],
   "source": [
    "data = np.load(RESULT_DIR)\n",
    "\n",
    "keys = data[\"key\"]\n",
    "series_ids = list(set([str(k).split(\"_\")[0] for k in keys]))\n",
    "preds = data[\"pred\"]\n",
    "labels = data[\"label\"]\n",
    "gt_df = pd.read_csv(Path(\"../../../data/train-series-with-partid\") / \"train_events.csv\")\n",
    "gt_df = gt_df[gt_df[\"series_id\"].isin(series_ids)].dropna().reset_index(drop=True)"
   ]
  },
  {
   "cell_type": "code",
   "execution_count": 6,
   "metadata": {},
   "outputs": [],
   "source": []
  },
  {
   "cell_type": "code",
   "execution_count": null,
   "metadata": {},
   "outputs": [],
   "source": [
    "\n",
    "from tqdm import tqdm\n",
    "sub_id = gt_df[\"series_id\"].unique()\n",
    "dict_result = {\"series_id\":[],\"score\":[]}\n",
    "for s_id in tqdm(sub_id):\n",
    "    dict_result[\"series_id\"].append(s_id)\n",
    "    dict_result[\"score\"].append(event_detection_ap(solution=gt_df[gt_df[\"series_id\"] == s_id],submission=df_submit[df_submit[\"series_id\"] == s_id]))\n",
    "\n",
    "    \n"
   ]
  }
 ],
 "metadata": {
  "kernelspec": {
   "display_name": "base",
   "language": "python",
   "name": "python3"
  },
  "language_info": {
   "codemirror_mode": {
    "name": "ipython",
    "version": 3
   },
   "file_extension": ".py",
   "mimetype": "text/x-python",
   "name": "python",
   "nbconvert_exporter": "python",
   "pygments_lexer": "ipython3",
   "version": "3.10.12"
  }
 },
 "nbformat": 4,
 "nbformat_minor": 2
}
