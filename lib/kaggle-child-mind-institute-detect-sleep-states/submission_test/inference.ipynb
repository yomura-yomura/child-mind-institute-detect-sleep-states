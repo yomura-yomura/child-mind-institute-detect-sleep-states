{
 "cells": [
  {
   "cell_type": "code",
   "execution_count": 1,
   "outputs": [],
   "source": [
    "import os\n",
    "import pathlib"
   ],
   "metadata": {
    "collapsed": false,
    "ExecuteTime": {
     "end_time": "2023-11-29T14:26:23.904756700Z",
     "start_time": "2023-11-29T14:26:23.895102200Z"
    }
   },
   "id": "7f7bb895cc3eb1a1"
  },
  {
   "cell_type": "code",
   "execution_count": 2,
   "outputs": [],
   "source": [
    "if os.getenv('KAGGLE_IS_COMPETITION_RERUN'):\n",
    "    phase = \"test\"\n",
    "else:\n",
    "#     phase = \"train\"  # calc CV on only 'validation'\n",
    "    phase = \"dev\"  # to check if submission can run as same as 'test', but n_series_ids is larger ~270, in 'dev'.\n",
    "#     phase = \"test\"\n",
    "\n",
    "\n",
    "downsample_rate = 2\n",
    "# score_th = 0.005\n",
    "# distance = 96\n",
    "score_th = 1e-4\n",
    "distance = 88\n",
    "\n",
    "# n_records_per_series_id = None\n",
    "n_records_per_series_id = 1000\n",
    "\n",
    "\n",
    "inference_step_offsets = None\n",
    "# inference_step_offsets = np.arange(0, 24, 4) * 12 * 60\n",
    "\n",
    "kaggle_model_dir_path = pathlib.Path(\"../cmi-dss-ensemble-models\")\n",
    "# kaggle_model_dir_path = pathlib.Path(\"/kaggle/input/cmi-dss-ensemble-models\")\n",
    "predicted_dir_path = pathlib.Path(\"/kaggle/working/predicted\")\n",
    "\n",
    "all_model_dir_path_dict = {\n",
    "     3: (f\"{kaggle_model_dir_path}/jumtras/exp016-gru-feature-fp16-layer4-ep70-lr-half\", 64),\n",
    "     7: (f\"{kaggle_model_dir_path}/ranchantan/exp015-lstm-feature-108-sigma\", 64),\n",
    "    19: (f\"{kaggle_model_dir_path}/ranchantan/exp019-stacked-gru-4-layers-24h-duration-4bs-108sigma\", 16),\n",
    "    27: (f\"{kaggle_model_dir_path}/jumtras/exp027-TimesNetFeatureExtractor-1DUnet-Unet\", 32),\n",
    "    41: (f\"{kaggle_model_dir_path}/ranchantan/exp041_retry\", 32),\n",
    "    47: (f\"{kaggle_model_dir_path}/ranchantan/exp047_retry\", 16),\n",
    "#     50: (f\"{kaggle_model_dir_path}/ranchantan/exp050-transformer-decoder_retry\", 16),    \n",
    "    50: (f\"{kaggle_model_dir_path}/ranchantan/exp050-transformer-decoder_retry_resume\", 16),\n",
    "    52: (f\"{kaggle_model_dir_path}/jumtras/exp052\", 32),\n",
    "    53: (f\"{kaggle_model_dir_path}/jumtras/exp053\", 16),\n",
    "    55: (f\"{kaggle_model_dir_path}/ranchantan/exp055\", 16),\n",
    "    58: (f\"{kaggle_model_dir_path}/jumtras/exp058\", 16),\n",
    "    85: (f\"{kaggle_model_dir_path}/jumtras/exp085\", 16),\n",
    "    88: (f\"{kaggle_model_dir_path}/jumtras/exp088\", 16)\n",
    "}\n",
    "\n",
    "weight_dict = {\n",
    "    \"47\": 0,\n",
    "    \"50\": 0,\n",
    "    \"52\": 0,\n",
    "    \"53\": 0,\n",
    "}  # stacking\n",
    "\n",
    "# weight_dict = {\n",
    "#   \"19\": 0.1,\n",
    "#   \"50\": 0.2,\n",
    "#   \"53\": 0.3,\n",
    "#   \"58\": 0.1,\n",
    "#   \"85\": 0.2,\n",
    "#   \"88\": 0.1\n",
    "# }  # 24\n",
    "\n",
    "# weight_dict = {\n",
    "#     \"19\": 0.05,\n",
    "#     \"27\": 0.05,\n",
    "#     \"50\": 0.2,\n",
    "#     \"53\": 0.3,\n",
    "#     \"58\": 0.1,\n",
    "#     \"85\": 0.2,\n",
    "#     \"88\": 0.1,\n",
    "# }  # 25\n",
    "\n",
    "post_process_modes = {\n",
    "#     \"sleeping_edges_as_probs\": cmi_dss_lib.utils.post_process.SleepingEdgesAsProbsSetting(\n",
    "#         sleep_prob_th=0.2, min_sleeping_hours=6\n",
    "#     ),\n",
    "#     \"cutting_probs_by_sleep_prob\": cmi_dss_lib.utils.post_process.CuttingProbsBySleepProbSetting(\n",
    "#         watch_interval_hour=7.5, sleep_occupancy_th=0.03\n",
    "#     ),\n",
    "#     \"cutting_probs_by_sleep_prob\": dict(\n",
    "#         onset=cmi_dss_lib.utils.post_process.CuttingProbsBySleepProbSetting(\n",
    "#             watch_interval_hour=7.5,\n",
    "#             sleep_occupancy_th=0.04,\n",
    "#         ),\n",
    "#         wakeup=cmi_dss_lib.utils.post_process.CuttingProbsBySleepProbSetting(\n",
    "#             watch_interval_hour=6.0,\n",
    "#             sleep_occupancy_th=0.03,\n",
    "#         ),\n",
    "#     )    \n",
    "}\n",
    "\n",
    "\n",
    "# Validation\n",
    "\n",
    "for p, _ in all_model_dir_path_dict.values():\n",
    "    assert pathlib.Path(p).exists(), p\n",
    "\n",
    "model_dir_path_info_dict = {\n",
    "    all_model_dir_path_dict[int(exp_id)][0]: (weight, all_model_dir_path_dict[int(exp_id)][1])\n",
    "    for exp_id, weight in weight_dict.items()\n",
    "}"
   ],
   "metadata": {
    "collapsed": false,
    "ExecuteTime": {
     "end_time": "2023-11-29T14:28:22.471441Z",
     "start_time": "2023-11-29T14:28:22.444204400Z"
    }
   },
   "id": "51c984e7979571fc"
  },
  {
   "cell_type": "code",
   "execution_count": 5,
   "outputs": [],
   "source": [
    "# use_stacking = True\n",
    "use_stacking = False\n",
    "stacking_exp_name = \"s_exp006\"\n",
    "\n",
    "if use_stacking:\n",
    "    stacking_model_dir_path = pathlib.Path(\"/kaggle/input/cmi-dss-seg-stacking-model\") / stacking_exp_name\n",
    "    assert stacking_model_dir_path.exists()\n",
    "else:\n",
    "    stacking_model_dir_path = None"
   ],
   "metadata": {
    "collapsed": false,
    "ExecuteTime": {
     "end_time": "2023-11-29T14:28:59.815256900Z",
     "start_time": "2023-11-29T14:28:59.801253200Z"
    }
   },
   "id": "740a05addddd4af2"
  },
  {
   "cell_type": "code",
   "execution_count": 6,
   "id": "initial_id",
   "metadata": {
    "collapsed": true,
    "ExecuteTime": {
     "end_time": "2023-11-29T14:30:02.764781700Z",
     "start_time": "2023-11-29T14:29:59.352777900Z"
    }
   },
   "outputs": [
    {
     "ename": "TypeError",
     "evalue": "'type' object is not subscriptable",
     "output_type": "error",
     "traceback": [
      "\u001B[0;31m---------------------------------------------------------------------------\u001B[0m",
      "\u001B[0;31mTypeError\u001B[0m                                 Traceback (most recent call last)",
      "\u001B[0;32m/tmp/ipykernel_2031322/419296528.py\u001B[0m in \u001B[0;36m<module>\u001B[0;34m\u001B[0m\n\u001B[0;32m----> 1\u001B[0;31m \u001B[0;32mimport\u001B[0m \u001B[0mcmi_dss_lib\u001B[0m\u001B[0;34m.\u001B[0m\u001B[0msubmission\u001B[0m\u001B[0;34m.\u001B[0m\u001B[0minference\u001B[0m\u001B[0;34m\u001B[0m\u001B[0;34m\u001B[0m\u001B[0m\n\u001B[0m\u001B[1;32m      2\u001B[0m \u001B[0;34m\u001B[0m\u001B[0m\n\u001B[1;32m      3\u001B[0m \u001B[0;32mif\u001B[0m \u001B[0muse_stacking\u001B[0m\u001B[0;34m:\u001B[0m\u001B[0;34m\u001B[0m\u001B[0;34m\u001B[0m\u001B[0m\n\u001B[1;32m      4\u001B[0m     \u001B[0;32massert\u001B[0m \u001B[0minference_step_offsets\u001B[0m \u001B[0;32mis\u001B[0m \u001B[0;32mNone\u001B[0m\u001B[0;34m\u001B[0m\u001B[0;34m\u001B[0m\u001B[0m\n\u001B[1;32m      5\u001B[0m     \u001B[0;32mfor\u001B[0m \u001B[0mi_fold\u001B[0m \u001B[0;32min\u001B[0m \u001B[0mrange\u001B[0m\u001B[0;34m(\u001B[0m\u001B[0;36m5\u001B[0m\u001B[0;34m)\u001B[0m\u001B[0;34m:\u001B[0m\u001B[0;34m\u001B[0m\u001B[0;34m\u001B[0m\u001B[0m\n",
      "\u001B[0;32m~/child-mind-institute-detect-sleep-states/lib/kaggle-child-mind-institute-detect-sleep-states/cmi_dss_lib/submission/inference.py\u001B[0m in \u001B[0;36m<module>\u001B[0;34m\u001B[0m\n\u001B[1;32m     54\u001B[0m     \u001B[0mi_fold\u001B[0m\u001B[0;34m:\u001B[0m \u001B[0mint\u001B[0m\u001B[0;34m,\u001B[0m\u001B[0;34m\u001B[0m\u001B[0;34m\u001B[0m\u001B[0m\n\u001B[1;32m     55\u001B[0m     \u001B[0mphase\u001B[0m\u001B[0;34m:\u001B[0m \u001B[0mstr\u001B[0m\u001B[0;34m,\u001B[0m\u001B[0;34m\u001B[0m\u001B[0;34m\u001B[0m\u001B[0m\n\u001B[0;32m---> 56\u001B[0;31m     \u001B[0minference_step_offsets\u001B[0m\u001B[0;34m:\u001B[0m \u001B[0mlist\u001B[0m\u001B[0;34m[\u001B[0m\u001B[0mint\u001B[0m\u001B[0;34m]\u001B[0m\u001B[0;34m,\u001B[0m\u001B[0;34m\u001B[0m\u001B[0;34m\u001B[0m\u001B[0m\n\u001B[0m\u001B[1;32m     57\u001B[0m ):\n\u001B[1;32m     58\u001B[0m     \u001B[0mexp_name\u001B[0m \u001B[0;34m=\u001B[0m \u001B[0;34m\"/\"\u001B[0m\u001B[0;34m.\u001B[0m\u001B[0mjoin\u001B[0m\u001B[0;34m(\u001B[0m\u001B[0mmodel_dir_path\u001B[0m\u001B[0;34m.\u001B[0m\u001B[0mparts\u001B[0m\u001B[0;34m[\u001B[0m\u001B[0;34m-\u001B[0m\u001B[0;36m2\u001B[0m\u001B[0;34m:\u001B[0m\u001B[0;34m]\u001B[0m\u001B[0;34m)\u001B[0m\u001B[0;34m\u001B[0m\u001B[0;34m\u001B[0m\u001B[0m\n",
      "\u001B[0;31mTypeError\u001B[0m: 'type' object is not subscriptable"
     ]
    }
   ],
   "source": [
    "import cmi_dss_lib.submission.inference\n",
    "\n",
    "if use_stacking:\n",
    "    assert inference_step_offsets is None\n",
    "    for i_fold in range(5):\n",
    "        for p, (_, batch_size) in model_dir_path_info_dict.items():\n",
    "            model_dir_path = kaggle_model_dir_path / p\n",
    "            !python -m run.inference {model_dir_path} kaggle.yaml batch_size={batch_size} --folds {i_fold}\n",
    "        !python -m run.stacking.inference {stacking_model_dir_path} kaggle.yaml batch_size=32 --folds {i_fold} && \\\n",
    "         rm -rf /kaggle/working/predicted/ranchantan /kaggle/working/predicted/jumtras\n",
    "    cmi_dss_lib.submission.inference.replace_predicted_pred_dirs_with_mean_preds_dir(predicted_dir_path, stacking_model_dir_path, phase)\n",
    "else:\n",
    "    for p, (_, batch_size) in model_dir_path_info_dict.items():\n",
    "        model_dir_path = kaggle_model_dir_path / p\n",
    "        for i_fold in range(5):\n",
    "            if inference_step_offsets is None:\n",
    "                !python -m run.inference {model_dir_path} kaggle.yaml batch_size={batch_size} --folds {i_fold}\n",
    "            else:\n",
    "                for inference_step_offset in inference_step_offsets:\n",
    "                    !python -m run.inference --folds {i_fold} {model_dir_path} kaggle.yaml batch_size={batch_size} inference_step_offset={inference_step_offset}\n",
    "                cmi_dss_lib.submission.inference.save_overlapping_mean_as_npz(\n",
    "                    predicted_dir_path, \n",
    "                    model_dir_path,\n",
    "                    i_fold,\n",
    "                    phase,\n",
    "                    inference_step_offsets\n",
    "                )\n",
    "\n",
    "        if phase in [\"test\", \"dev\"]:\n",
    "            cmi_dss_lib.submission.inference.replace_predicted_pred_dirs_with_mean_preds_dir(\n",
    "                predicted_dir_path, \n",
    "                model_dir_path,\n",
    "                phase\n",
    "            )"
   ]
  }
 ],
 "metadata": {
  "kernelspec": {
   "display_name": "Python 3",
   "language": "python",
   "name": "python3"
  },
  "language_info": {
   "codemirror_mode": {
    "name": "ipython",
    "version": 2
   },
   "file_extension": ".py",
   "mimetype": "text/x-python",
   "name": "python",
   "nbconvert_exporter": "python",
   "pygments_lexer": "ipython2",
   "version": "2.7.6"
  }
 },
 "nbformat": 4,
 "nbformat_minor": 5
}
